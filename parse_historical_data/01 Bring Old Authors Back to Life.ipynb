{
 "cells": [
  {
   "cell_type": "code",
   "execution_count": 2,
   "metadata": {},
   "outputs": [],
   "source": [
    "import pandas as pd\n",
    "import sqlite3\n",
    "\n",
    "from pathlib import Path"
   ]
  },
  {
   "cell_type": "code",
   "execution_count": 3,
   "metadata": {},
   "outputs": [],
   "source": [
    "data = Path.cwd().parent / 'data'\n",
    "con18 = sqlite3.connect(data / 'Nolan_Conaways_2018_data.db')\n",
    "con25 = sqlite3.connect(data / 'Pitchfork_Album_Reviews_2025_03_02.db')"
   ]
  },
  {
   "cell_type": "markdown",
   "metadata": {},
   "source": [
    "# Checking for missing authors\n",
    "\n",
    "* I manually made a list of missing authors, since they weren't that many (<60). \n",
    "* For some reason (or various reasons), some author names changed over time. \n",
    "* I actually went one by one, trying to see what happened on every missmatch between 2018 and 2025 data.\n",
    "  - Sometimes author names were just erased from the whole website (like Loren Ludwig, or Luke Buckman, Alan Smithee, etc.)\n",
    "  - Sometimes they really changed their name \"brad nelson\" to \"ivy nelson\"\n",
    "  - Sometimes minor name corrections were done like \"linhardt\" -> \"lindhardt\"\n"
   ]
  },
  {
   "cell_type": "code",
   "execution_count": 5,
   "metadata": {},
   "outputs": [],
   "source": [
    "deleted_authors = [\n",
    "'alan smithee', 'kim shannon', 'kristin sage rockermann', 'kyle reiter', 'kevin adickes',\n",
    "'leonard pierce', 'liz colville', 'loren ludwig', 'luke buckman', 'mark martelli', \n",
    "'martin clark', 'matt kallman', 'matt stephens', 'matt wellins', 'meg zamula', 'mia lily clarke', \n",
    "'michael bernstein', 'michael idov', 'michael wartenbe', 'mike bernstein', 'mike orme', \n",
    "'natalie moore', 'nathan humpal', 'nathan rooney', 'neil lieberman', 'neil robertson', \n",
    "'nicholas b. sylvester', 'noah sutcliffe', 'oliver lache', 'p.j. gallagher', \n",
    "'pete nicholson', 'philip shelley', 'philip welsh', 'rachel khong', 'robbie mackey', \n",
    "'roque strew', 'ryan kearney', 'sam chennault', 'sara sherr', 'sarah zupko', \n",
    "'scott hreha', 'shan fowler', 'spencer owen', 'stephen haag', 'stephen may', \n",
    "'stephen trouss', 'steven byrd', 'stosh \"piz\" piznarski', 'taylor m. clark', \n",
    "'will bryant', 'william morris', 'yancey strickler', 'yancey strickler', \n",
    "'zach baron', 'malcolm seymour iii', 'zach hammerman', 'zach vowell']\n",
    "\n",
    "corrections_to_authors_18 = {\n",
    "    'alex linhardt': 'alex lindhart',\n",
    "    'alexander lloyd linhardt': 'alex lindhart',\n",
    "    'alex linhardt': 'alex lindhart',\n",
    "    'abigail garnett': 'abby garnett',\n",
    "    \"andy o' connor\": \"andy o'connor\",\n",
    "    'ben scheim': 'benjamin scheim',\n",
    "    'brad nelson': 'ivy nelson',\n",
    "    'cory byrom': 'cory d. byrom',\n",
    "    'dr. andy beta' : 'andy beta',\n",
    "    'edwin stats houghton': 'edwin “stats” houghton',\n",
    "    'edwin \"stats\" houghton': 'edwin “stats” houghton',\n",
    "    'grayson currin': 'grayson haver currin',\n",
    "    'jeremy larson': 'jeremy d. larson',\n",
    "    'jes skolnik': 'jj skolnik',\n",
    "    'jillian mapes' : 'jill mapes',\n",
    "    'josh love': 'joshua love',\n",
    "    'katherine st asaph': 'katherine st. asaph',\n",
    "    'mark richard-san': 'mark richardson',\n",
    "    'matthew grosinger': 'matt grosinger',\n",
    "    'nina mashurova': 'nm mashurov',\n",
    "    'pj gallagher': 'p.j. gallagher',\n",
    "    'richard m. juzwiak': 'rich juzwiak',\n",
    "    'rohan samarth': 'ro samarth',\n",
    "    'saby reyes kulkarni': 'saby reyes-kulkarni',\n",
    "    'savy reyes-kulkarni': 'saby reyes-kulkarni',\n",
    "    's. murray': 'sean murray',\n",
    "    'sean fennessy': 'sean fennessey',\n",
    "    'seth colter-walls': 'seth colter walls',\n",
    "    'stephen deusner': 'stephen m. deusner',\n",
    "    'stephen m. duesner': 'stephen m. deusner',\n",
    "    'stephenm. deusner': 'stephen m. deusner',\n",
    "    'the pitchfork staff' : 'pitchfork',\n",
    "    'kim fing shannon' : 'kim shannon',\n",
    "    'matthew stephens' : 'matt stephens',\n",
    "    'matthew wellins' : 'matt wellins',}\n"
   ]
  },
  {
   "cell_type": "code",
   "execution_count": 6,
   "metadata": {},
   "outputs": [],
   "source": [
    "authors_18 = (pd\n",
    "    .read_sql(\"SELECT DISTINCT author FROM reviews\", con18)\n",
    "    .assign(\n",
    "        author = lambda adf: adf\n",
    "            .author.str.replace('  ','')\n",
    "            .str.strip()\n",
    "            .replace(corrections_to_authors_18)\n",
    "            .str.replace('with help from ','')\n",
    "            .str.replace(', and', ''),\n",
    "        erased = lambda adf: adf.author.isin(deleted_authors))\n",
    "    .drop_duplicates(keep='first', ignore_index=False))"
   ]
  },
  {
   "cell_type": "code",
   "execution_count": 7,
   "metadata": {},
   "outputs": [],
   "source": [
    "authors_25 = (pd\n",
    "    .read_sql(\"SELECT author_id, author FROM authors\", con25, index_col='author_id')\n",
    "    .assign(author = lambda adf: adf\n",
    "        .author\n",
    "        .str.replace('  ',' ')\n",
    "        .str.strip()))"
   ]
  },
  {
   "cell_type": "markdown",
   "metadata": {},
   "source": [
    "#### Author Matches\n",
    "\n",
    "I inspected this table using data Wrangler until every single missmatch was analysed.  \n",
    "The only missmatches left are for reviews with multiple authors. But all those authors still existed in 2025, so no additional work was necessary.  "
   ]
  },
  {
   "cell_type": "code",
   "execution_count": 8,
   "metadata": {},
   "outputs": [
    {
     "data": {
      "application/vnd.microsoft.datawrangler.viewer.v0+json": {
       "columns": [
        {
         "name": "index",
         "rawType": "int64",
         "type": "integer"
        },
        {
         "name": "author_id",
         "rawType": "object",
         "type": "unknown"
        },
        {
         "name": "author",
         "rawType": "object",
         "type": "unknown"
        },
        {
         "name": "author_25_lower",
         "rawType": "object",
         "type": "unknown"
        },
        {
         "name": "author_id_18",
         "rawType": "float64",
         "type": "float"
        },
        {
         "name": "author_18_lower",
         "rawType": "object",
         "type": "unknown"
        },
        {
         "name": "erased",
         "rawType": "object",
         "type": "unknown"
        }
       ],
       "conversionMethod": "pd.DataFrame",
       "ref": "301d19d4-2707-455c-b371-c8edb4d8d4bd",
       "rows": [
        [
         "0",
         "5926045917cea934e4daf5f3",
         "Aaron Leitko",
         "aaron leitko",
         "116.0",
         "aaron leitko",
         "False"
        ],
        [
         "1",
         "592604aec31f3f3472b1d545",
         "Abby Garnett",
         "abby garnett",
         "157.0",
         "abby garnett",
         "False"
        ],
        [
         "2",
         "5c86b71e077d417a7480ed26",
         "Abby Jones",
         "abby jones",
         null,
         null,
         null
        ],
        [
         "3",
         "592604afc31f3f3472b1d546",
         "Abigail Covington",
         "abigail covington",
         "108.0",
         "abigail covington",
         "False"
        ],
        [
         "4",
         "64b16a5f88ee50644a41718d",
         "Adam Dlugacz",
         "adam dlugacz",
         "402.0",
         "adam dlugacz",
         "False"
        ],
        [
         "5",
         "64b16b08d0f1c8c5bb74b886",
         "Adam Moerder",
         "adam moerder",
         "255.0",
         "adam moerder",
         "False"
        ],
        [
         "6",
         "64b6a65488ee50644a4171d3",
         "Adam Ohler",
         "adam ohler",
         "422.0",
         "adam ohler",
         "False"
        ],
        [
         "7",
         "5dc1ad8870cbce00082b8bc7",
         "Adlan Jackson",
         "adlan jackson",
         null,
         null,
         null
        ],
        [
         "8",
         "6732198ed14953f1d6f9c8d8",
         "Adrian Spinelli",
         "adrian spinelli",
         null,
         null,
         null
        ],
        [
         "9",
         "64b5c1658c2dbb6576623b20",
         "Adrienne Day",
         "adrienne day",
         "259.0",
         "adrienne day",
         "False"
        ],
        [
         "10",
         "5c9cfec1caa16959e7e76701",
         "Aimee Cliff",
         "aimee cliff",
         null,
         null,
         null
        ],
        [
         "11",
         "677fe8da5f5592937626bb69",
         "AJ Morris",
         "aj morris",
         null,
         null,
         null
        ],
        [
         "12",
         "64b5c081874fd2bcf9dd7813",
         "Al Shipley",
         "al shipley",
         "414.0",
         "al shipley",
         "False"
        ],
        [
         "13",
         "592604b093405b3cd7615ecd",
         "Alan Light",
         "alan light",
         "98.0",
         "alan light",
         "False"
        ],
        [
         "14",
         null,
         null,
         null,
         "345.0",
         "alan smithee",
         "True"
        ],
        [
         "15",
         "6509d117be5cdb1341416c5f",
         "Alastair Shuttleworth",
         "alastair shuttleworth",
         null,
         null,
         null
        ],
        [
         "16",
         "592604b07fd06e5349102f31",
         "Alex Frank",
         "alex frank",
         null,
         null,
         null
        ],
        [
         "17",
         "64c9694f24a9b87015f3cb5d",
         "Alex Lindhart",
         "alex lindhart",
         "275.0",
         "alex lindhart",
         "False"
        ],
        [
         "18",
         "5dbafa24892ad400095d26f1",
         "Alex Pappademas",
         "alex pappademas",
         null,
         null,
         null
        ],
        [
         "19",
         "62f2858a8043195b1bb3f65d",
         "Alex Ramos",
         "alex ramos",
         null,
         null,
         null
        ],
        [
         "20",
         "67acf40af93fcb41cd60a44f",
         "Alex Robert Ross",
         "alex robert ross",
         null,
         null,
         null
        ],
        [
         "21",
         "592604b117cea934e4daf5fd",
         "Alexander Iadarola",
         "alexander iadarola",
         "76.0",
         "alexander iadarola",
         "False"
        ],
        [
         "22",
         "64c96b237d4851d884a3331b",
         "Alexander Lloyd Lindhart",
         "alexander lloyd lindhart",
         null,
         null,
         null
        ],
        [
         "23",
         "592604b1c31f3f3472b1d54d",
         "Alfred Soto",
         "alfred soto",
         null,
         null,
         null
        ],
        [
         "24",
         "64cbc47a61692f6429e9aebb",
         "Alison Fields",
         "alison fields",
         "385.0",
         "alison fields",
         "False"
        ],
        [
         "25",
         "62fa7eebfb533f934dff07ad",
         "Allison Harris",
         "allison harris",
         null,
         null,
         null
        ],
        [
         "26",
         "592604b1d82c58364dc335ad",
         "Allison Hussey",
         "allison hussey",
         "109.0",
         "allison hussey",
         "False"
        ],
        [
         "27",
         "5b02c8bbbeaae61a3a85248b",
         "Alphonse Pierre",
         "alphonse pierre",
         null,
         null,
         null
        ],
        [
         "28",
         "66ed8b8535c57f2d99b062ca",
         "Aly Eleanor",
         "aly eleanor",
         null,
         null,
         null
        ],
        [
         "29",
         "592604b117cea934e4daf601",
         "Amanda Petrusich",
         "amanda petrusich",
         "79.0",
         "amanda petrusich",
         "False"
        ],
        [
         "30",
         "592604b217cea934e4daf602",
         "Amanda Wicks",
         "amanda wicks",
         null,
         null,
         null
        ],
        [
         "31",
         "592604b2d82c58364dc335af",
         "Amy Granzin",
         "amy granzin",
         "241.0",
         "amy granzin",
         "False"
        ],
        [
         "32",
         "592604b27fd06e5349102f38",
         "Amy Phillips",
         "amy phillips",
         "293.0",
         "amy phillips",
         "False"
        ],
        [
         "33",
         "592604b205256239ffaf233e",
         "Amy Schroeder",
         "amy schroeder",
         null,
         null,
         null
        ],
        [
         "34",
         "64cc15caeb44ba56e1d8d1c9",
         "Andi Rowlands",
         "andi rowlands",
         "399.0",
         "andi rowlands",
         "False"
        ],
        [
         "35",
         "64cc17882c090cf90650c22b",
         "Andrew Bryant",
         "andrew bryant",
         "312.0",
         "andrew bryant",
         "False"
        ],
        [
         "36",
         "592604b393405b3cd7615ed1",
         "Andrew Gaerig",
         "andrew gaerig",
         "30.0",
         "andrew gaerig",
         "False"
        ],
        [
         "37",
         "64cc166336a1e9d12cb54a69",
         "Andrew Goldman",
         "andrew goldman",
         "417.0",
         "andrew goldman",
         "False"
        ],
        [
         "38",
         "64cc173d2c090cf90650c22a",
         "Andrew Lehman",
         "andrew lehman",
         "314.0",
         "andrew lehman",
         "False"
        ],
        [
         "39",
         "592604b305256239ffaf2341",
         "Andrew Nosnitsky",
         "andrew nosnitsky",
         "106.0",
         "andrew nosnitsky",
         "False"
        ],
        [
         "40",
         "592604b3d82c58364dc335b3",
         "Andrew Ryce",
         "andrew ryce",
         "166.0",
         "andrew ryce",
         "False"
        ],
        [
         "41",
         "6279572d9ab5a7daccd0b216",
         "Andy Battaglia",
         "andy battaglia",
         "239.0",
         "andy battaglia",
         "False"
        ],
        [
         "42",
         "592604b4d82c58364dc335b4",
         "Andy Beta",
         "andy beta",
         "7.0",
         "andy beta",
         "False"
        ],
        [
         "43",
         null,
         null,
         null,
         "326.0",
         "andy beta, brandon stosuy & mark richardson",
         "False"
        ],
        [
         "44",
         "5dd85e5a5ea46d0008cded7b",
         "Andy Cush",
         "andy cush",
         null,
         null,
         null
        ],
        [
         "45",
         "592604b417cea934e4daf605",
         "Andy Emitt",
         "andy emitt",
         "131.0",
         "andy emitt",
         "False"
        ],
        [
         "46",
         "64d108fe71e86f1e192e9377",
         "Andy Linhardt",
         "andy linhardt",
         "346.0",
         "andy linhardt",
         "False"
        ],
        [
         "47",
         "592604b417cea934e4daf607",
         "Andy O'Connor",
         "andy o'connor",
         "74.0",
         "andy o'connor",
         "False"
        ],
        [
         "48",
         "592604b417cea934e4daf608",
         "Angus Finlayson",
         "angus finlayson",
         "207.0",
         "angus finlayson",
         "False"
        ],
        [
         "49",
         "5c421cfd98bca5110aacdd4b",
         "Ann-Derrick Gaillot",
         "ann-derrick gaillot",
         null,
         null,
         null
        ]
       ],
       "shape": {
        "columns": 6,
        "rows": 742
       }
      },
      "text/html": [
       "<div>\n",
       "<style scoped>\n",
       "    .dataframe tbody tr th:only-of-type {\n",
       "        vertical-align: middle;\n",
       "    }\n",
       "\n",
       "    .dataframe tbody tr th {\n",
       "        vertical-align: top;\n",
       "    }\n",
       "\n",
       "    .dataframe thead th {\n",
       "        text-align: right;\n",
       "    }\n",
       "</style>\n",
       "<table border=\"1\" class=\"dataframe\">\n",
       "  <thead>\n",
       "    <tr style=\"text-align: right;\">\n",
       "      <th></th>\n",
       "      <th>author_id</th>\n",
       "      <th>author</th>\n",
       "      <th>author_25_lower</th>\n",
       "      <th>author_id_18</th>\n",
       "      <th>author_18_lower</th>\n",
       "      <th>erased</th>\n",
       "    </tr>\n",
       "  </thead>\n",
       "  <tbody>\n",
       "    <tr>\n",
       "      <th>0</th>\n",
       "      <td>5926045917cea934e4daf5f3</td>\n",
       "      <td>Aaron Leitko</td>\n",
       "      <td>aaron leitko</td>\n",
       "      <td>116.0</td>\n",
       "      <td>aaron leitko</td>\n",
       "      <td>False</td>\n",
       "    </tr>\n",
       "    <tr>\n",
       "      <th>1</th>\n",
       "      <td>592604aec31f3f3472b1d545</td>\n",
       "      <td>Abby Garnett</td>\n",
       "      <td>abby garnett</td>\n",
       "      <td>157.0</td>\n",
       "      <td>abby garnett</td>\n",
       "      <td>False</td>\n",
       "    </tr>\n",
       "    <tr>\n",
       "      <th>2</th>\n",
       "      <td>5c86b71e077d417a7480ed26</td>\n",
       "      <td>Abby Jones</td>\n",
       "      <td>abby jones</td>\n",
       "      <td>NaN</td>\n",
       "      <td>NaN</td>\n",
       "      <td>NaN</td>\n",
       "    </tr>\n",
       "    <tr>\n",
       "      <th>3</th>\n",
       "      <td>592604afc31f3f3472b1d546</td>\n",
       "      <td>Abigail Covington</td>\n",
       "      <td>abigail covington</td>\n",
       "      <td>108.0</td>\n",
       "      <td>abigail covington</td>\n",
       "      <td>False</td>\n",
       "    </tr>\n",
       "    <tr>\n",
       "      <th>4</th>\n",
       "      <td>64b16a5f88ee50644a41718d</td>\n",
       "      <td>Adam Dlugacz</td>\n",
       "      <td>adam dlugacz</td>\n",
       "      <td>402.0</td>\n",
       "      <td>adam dlugacz</td>\n",
       "      <td>False</td>\n",
       "    </tr>\n",
       "    <tr>\n",
       "      <th>...</th>\n",
       "      <td>...</td>\n",
       "      <td>...</td>\n",
       "      <td>...</td>\n",
       "      <td>...</td>\n",
       "      <td>...</td>\n",
       "      <td>...</td>\n",
       "    </tr>\n",
       "    <tr>\n",
       "      <th>737</th>\n",
       "      <td>592604c7c31f3f3472b1d59a</td>\n",
       "      <td>Zachary Lipez</td>\n",
       "      <td>zachary lipez</td>\n",
       "      <td>NaN</td>\n",
       "      <td>NaN</td>\n",
       "      <td>NaN</td>\n",
       "    </tr>\n",
       "    <tr>\n",
       "      <th>738</th>\n",
       "      <td>62bb103e5b6a7bdd3ea30c7c</td>\n",
       "      <td>Zara Hedderman</td>\n",
       "      <td>zara hedderman</td>\n",
       "      <td>NaN</td>\n",
       "      <td>NaN</td>\n",
       "      <td>NaN</td>\n",
       "    </tr>\n",
       "    <tr>\n",
       "      <th>739</th>\n",
       "      <td>61113e277818868ad0dc1a20</td>\n",
       "      <td>Zhenzhen Yu</td>\n",
       "      <td>zhenzhen yu</td>\n",
       "      <td>NaN</td>\n",
       "      <td>NaN</td>\n",
       "      <td>NaN</td>\n",
       "    </tr>\n",
       "    <tr>\n",
       "      <th>740</th>\n",
       "      <td>592604c7c31f3f3472b1d59c</td>\n",
       "      <td>Zoe Camp</td>\n",
       "      <td>zoe camp</td>\n",
       "      <td>1.0</td>\n",
       "      <td>zoe camp</td>\n",
       "      <td>False</td>\n",
       "    </tr>\n",
       "    <tr>\n",
       "      <th>741</th>\n",
       "      <td>5d1cc44249bcdc0008fbc6b8</td>\n",
       "      <td>Zoe Dubno</td>\n",
       "      <td>zoe dubno</td>\n",
       "      <td>NaN</td>\n",
       "      <td>NaN</td>\n",
       "      <td>NaN</td>\n",
       "    </tr>\n",
       "  </tbody>\n",
       "</table>\n",
       "<p>742 rows × 6 columns</p>\n",
       "</div>"
      ],
      "text/plain": [
       "                    author_id             author    author_25_lower  \\\n",
       "0    5926045917cea934e4daf5f3       Aaron Leitko       aaron leitko   \n",
       "1    592604aec31f3f3472b1d545       Abby Garnett       abby garnett   \n",
       "2    5c86b71e077d417a7480ed26         Abby Jones         abby jones   \n",
       "3    592604afc31f3f3472b1d546  Abigail Covington  abigail covington   \n",
       "4    64b16a5f88ee50644a41718d       Adam Dlugacz       adam dlugacz   \n",
       "..                        ...                ...                ...   \n",
       "737  592604c7c31f3f3472b1d59a      Zachary Lipez      zachary lipez   \n",
       "738  62bb103e5b6a7bdd3ea30c7c     Zara Hedderman     zara hedderman   \n",
       "739  61113e277818868ad0dc1a20        Zhenzhen Yu        zhenzhen yu   \n",
       "740  592604c7c31f3f3472b1d59c           Zoe Camp           zoe camp   \n",
       "741  5d1cc44249bcdc0008fbc6b8          Zoe Dubno          zoe dubno   \n",
       "\n",
       "     author_id_18    author_18_lower erased  \n",
       "0           116.0       aaron leitko  False  \n",
       "1           157.0       abby garnett  False  \n",
       "2             NaN                NaN    NaN  \n",
       "3           108.0  abigail covington  False  \n",
       "4           402.0       adam dlugacz  False  \n",
       "..            ...                ...    ...  \n",
       "737           NaN                NaN    NaN  \n",
       "738           NaN                NaN    NaN  \n",
       "739           NaN                NaN    NaN  \n",
       "740           1.0           zoe camp  False  \n",
       "741           NaN                NaN    NaN  \n",
       "\n",
       "[742 rows x 6 columns]"
      ]
     },
     "execution_count": 8,
     "metadata": {},
     "output_type": "execute_result"
    }
   ],
   "source": [
    "author_matches = (authors_25\n",
    "    .reset_index()\n",
    "    .assign(author_25_lower = lambda adf: adf.author.str.lower())\n",
    "    .merge(\n",
    "        authors_18\n",
    "            .rename(columns={'author':'author_18_lower'})\n",
    "            .reset_index(names='author_id_18'),\n",
    "        left_on = 'author_25_lower',\n",
    "        right_on = 'author_18_lower',\n",
    "        how = 'outer' ))\n",
    "\n",
    "author_matches"
   ]
  },
  {
   "cell_type": "markdown",
   "metadata": {},
   "source": [
    "# Bringing history back to life\n",
    "\n",
    "The 2025 pitchfork album reviews dataset has many authors marked as \"Pitchfork\" (authors that were there on 2018 but not on 2025).  \n",
    "The task is to take all those deleted authors, give them a unique ID and associate their id to the 2025 reviews, based on the 2018 reviews.  \n",
    "I will use urls to match records from both years. \n"
   ]
  },
  {
   "cell_type": "code",
   "execution_count": 9,
   "metadata": {},
   "outputs": [
    {
     "data": {
      "application/vnd.microsoft.datawrangler.viewer.v0+json": {
       "columns": [
        {
         "name": "reviewid",
         "rawType": "int64",
         "type": "integer"
        },
        {
         "name": "author",
         "rawType": "object",
         "type": "string"
        },
        {
         "name": "url",
         "rawType": "object",
         "type": "string"
        }
       ],
       "conversionMethod": "pd.DataFrame",
       "ref": "e6fe3115-4b0f-4e39-8796-c4a0a3059532",
       "rows": [
        [
         "14715",
         "liz colville",
         "http://pitchfork.com/reviews/albums/14715-ghost-fits/"
        ],
        [
         "14595",
         "liz colville",
         "http://pitchfork.com/reviews/albums/14595-past-time/"
        ],
        [
         "14675",
         "liz colville",
         "http://pitchfork.com/reviews/albums/14675-forget/"
        ],
        [
         "14607",
         "liz colville",
         "http://pitchfork.com/reviews/albums/14607-alibi-coast/"
        ],
        [
         "14547",
         "liz colville",
         "http://pitchfork.com/reviews/albums/14547-catching-a-tiger/"
        ],
        [
         "14339",
         "liz colville",
         "http://pitchfork.com/reviews/albums/14339-twin-hand-movement/"
        ],
        [
         "14321",
         "liz colville",
         "http://pitchfork.com/reviews/albums/14321-lustre/"
        ],
        [
         "14296",
         "liz colville",
         "http://pitchfork.com/reviews/albums/14296-we-are-born/"
        ],
        [
         "14306",
         "mike orme",
         "http://pitchfork.com/reviews/albums/14306-into-the-great-wide-yonder/"
        ],
        [
         "14297",
         "mike orme",
         "http://pitchfork.com/reviews/albums/14297-love-and-its-opposite/"
        ],
        [
         "14272",
         "leonard pierce",
         "http://pitchfork.com/reviews/albums/14272-holy-ground-nyc-live-with-the-wordless-music-orchestra/"
        ],
        [
         "14239",
         "liz colville",
         "http://pitchfork.com/reviews/albums/14239-subject-to-shift/"
        ],
        [
         "14215",
         "leonard pierce",
         "http://pitchfork.com/reviews/albums/14215-blackjazz/"
        ],
        [
         "14194",
         "mike orme",
         "http://pitchfork.com/reviews/albums/14194-more/"
        ],
        [
         "13995",
         "stephen trouss",
         "http://pitchfork.com/reviews/albums/13995-lights/"
        ],
        [
         "13873",
         "stephen trouss",
         "http://pitchfork.com/reviews/albums/13873-acolyte/"
        ],
        [
         "13750",
         "mike orme",
         "http://pitchfork.com/reviews/albums/13750-armonico-hewa/"
        ],
        [
         "13733",
         "stephen trouss",
         "http://pitchfork.com/reviews/albums/13733-new-york/"
        ],
        [
         "13655",
         "martin clark",
         "http://pitchfork.com/reviews/albums/13655-street-anthems/"
        ],
        [
         "13651",
         "stephen trouss",
         "http://pitchfork.com/reviews/albums/13651-swords/"
        ],
        [
         "13561",
         "mike orme",
         "http://pitchfork.com/reviews/albums/13561-dj-kicks/"
        ],
        [
         "13171",
         "mike orme",
         "http://pitchfork.com/reviews/albums/13171-signal-morning/"
        ],
        [
         "13040",
         "roque strew",
         "http://pitchfork.com/reviews/albums/13040-under-and-under-the-fields-ep/"
        ],
        [
         "13234",
         "mike orme",
         "http://pitchfork.com/reviews/albums/13234-bestia/"
        ],
        [
         "12889",
         "roque strew",
         "http://pitchfork.com/reviews/albums/12889-clangour/"
        ],
        [
         "13028",
         "roque strew",
         "http://pitchfork.com/reviews/albums/13028-la-llama/"
        ],
        [
         "13069",
         "roque strew",
         "http://pitchfork.com/reviews/albums/13069-ballads/"
        ],
        [
         "12891",
         "roque strew",
         "http://pitchfork.com/reviews/albums/12891-free-drugs-/"
        ],
        [
         "13009",
         "roque strew",
         "http://pitchfork.com/reviews/albums/13009-wavering-radiant/"
        ],
        [
         "12890",
         "roque strew",
         "http://pitchfork.com/reviews/albums/12890-space-programs/"
        ],
        [
         "12843",
         "mike orme",
         "http://pitchfork.com/reviews/albums/12843-take-my-breath-away/"
        ],
        [
         "12777",
         "roque strew",
         "http://pitchfork.com/reviews/albums/12777-angst-is-not-a-weltanschauung/"
        ],
        [
         "12820",
         "mike orme",
         "http://pitchfork.com/reviews/albums/12820-as-seen-through-windows/"
        ],
        [
         "12737",
         "roque strew",
         "http://pitchfork.com/reviews/albums/12737-drone-trailer/"
        ],
        [
         "12782",
         "mike orme",
         "http://pitchfork.com/reviews/albums/12782-ye-viols/"
        ],
        [
         "12679",
         "roque strew",
         "http://pitchfork.com/reviews/albums/12679-cinematic-shades-the-slow-songs/"
        ],
        [
         "12684",
         "mike orme",
         "http://pitchfork.com/reviews/albums/12684-exodus/"
        ],
        [
         "12586",
         "roque strew",
         "http://pitchfork.com/reviews/albums/12586-an-invitation/"
        ],
        [
         "12604",
         "mike orme",
         "http://pitchfork.com/reviews/albums/12604-numbers-lucent-ep/"
        ],
        [
         "12594",
         "roque strew",
         "http://pitchfork.com/reviews/albums/12594-luniculaire-ep/"
        ],
        [
         "12568",
         "mike orme",
         "http://pitchfork.com/reviews/albums/12568-we-ate-the-machine/"
        ],
        [
         "12565",
         "roque strew",
         "http://pitchfork.com/reviews/albums/12565-fun-dmc/"
        ],
        [
         "12552",
         "roque strew",
         "http://pitchfork.com/reviews/albums/12552-jewels/"
        ],
        [
         "12491",
         "roque strew",
         "http://pitchfork.com/reviews/albums/12491-tv-loves-you-back/"
        ],
        [
         "12524",
         "mia lily clarke",
         "http://pitchfork.com/reviews/albums/12524-hush-arbors/"
        ],
        [
         "12483",
         "mike orme",
         "http://pitchfork.com/reviews/albums/12483-ladyhawke/"
        ],
        [
         "12477",
         "mike orme",
         "http://pitchfork.com/reviews/albums/12477-adventure/"
        ],
        [
         "12484",
         "mike orme",
         "http://pitchfork.com/reviews/albums/12484-walking-on-a-dream/"
        ],
        [
         "12404",
         "roque strew",
         "http://pitchfork.com/reviews/albums/12404-natures-got-away/"
        ],
        [
         "12391",
         "zach baron",
         "http://pitchfork.com/reviews/albums/12391-berlin-live-at-st-anns-warehouse/"
        ]
       ],
       "shape": {
        "columns": 2,
        "rows": 752
       }
      },
      "text/html": [
       "<div>\n",
       "<style scoped>\n",
       "    .dataframe tbody tr th:only-of-type {\n",
       "        vertical-align: middle;\n",
       "    }\n",
       "\n",
       "    .dataframe tbody tr th {\n",
       "        vertical-align: top;\n",
       "    }\n",
       "\n",
       "    .dataframe thead th {\n",
       "        text-align: right;\n",
       "    }\n",
       "</style>\n",
       "<table border=\"1\" class=\"dataframe\">\n",
       "  <thead>\n",
       "    <tr style=\"text-align: right;\">\n",
       "      <th></th>\n",
       "      <th>author</th>\n",
       "      <th>url</th>\n",
       "    </tr>\n",
       "    <tr>\n",
       "      <th>reviewid</th>\n",
       "      <th></th>\n",
       "      <th></th>\n",
       "    </tr>\n",
       "  </thead>\n",
       "  <tbody>\n",
       "    <tr>\n",
       "      <th>14715</th>\n",
       "      <td>liz colville</td>\n",
       "      <td>http://pitchfork.com/reviews/albums/14715-ghos...</td>\n",
       "    </tr>\n",
       "    <tr>\n",
       "      <th>14595</th>\n",
       "      <td>liz colville</td>\n",
       "      <td>http://pitchfork.com/reviews/albums/14595-past...</td>\n",
       "    </tr>\n",
       "    <tr>\n",
       "      <th>14675</th>\n",
       "      <td>liz colville</td>\n",
       "      <td>http://pitchfork.com/reviews/albums/14675-forget/</td>\n",
       "    </tr>\n",
       "    <tr>\n",
       "      <th>14607</th>\n",
       "      <td>liz colville</td>\n",
       "      <td>http://pitchfork.com/reviews/albums/14607-alib...</td>\n",
       "    </tr>\n",
       "    <tr>\n",
       "      <th>14547</th>\n",
       "      <td>liz colville</td>\n",
       "      <td>http://pitchfork.com/reviews/albums/14547-catc...</td>\n",
       "    </tr>\n",
       "    <tr>\n",
       "      <th>...</th>\n",
       "      <td>...</td>\n",
       "      <td>...</td>\n",
       "    </tr>\n",
       "    <tr>\n",
       "      <th>7339</th>\n",
       "      <td>taylor m. clark</td>\n",
       "      <td>http://pitchfork.com/reviews/albums/7339-axxes...</td>\n",
       "    </tr>\n",
       "    <tr>\n",
       "      <th>8677</th>\n",
       "      <td>neil lieberman</td>\n",
       "      <td>http://pitchfork.com/reviews/albums/8677-summe...</td>\n",
       "    </tr>\n",
       "    <tr>\n",
       "      <th>7051</th>\n",
       "      <td>shan fowler</td>\n",
       "      <td>http://pitchfork.com/reviews/albums/7051-the-s...</td>\n",
       "    </tr>\n",
       "    <tr>\n",
       "      <th>2965</th>\n",
       "      <td>shan fowler</td>\n",
       "      <td>http://pitchfork.com/reviews/albums/2965-can-y...</td>\n",
       "    </tr>\n",
       "    <tr>\n",
       "      <th>3741</th>\n",
       "      <td>neil lieberman</td>\n",
       "      <td>http://pitchfork.com/reviews/albums/3741-trad-...</td>\n",
       "    </tr>\n",
       "  </tbody>\n",
       "</table>\n",
       "<p>752 rows × 2 columns</p>\n",
       "</div>"
      ],
      "text/plain": [
       "                   author                                                url\n",
       "reviewid                                                                    \n",
       "14715        liz colville  http://pitchfork.com/reviews/albums/14715-ghos...\n",
       "14595        liz colville  http://pitchfork.com/reviews/albums/14595-past...\n",
       "14675        liz colville  http://pitchfork.com/reviews/albums/14675-forget/\n",
       "14607        liz colville  http://pitchfork.com/reviews/albums/14607-alib...\n",
       "14547        liz colville  http://pitchfork.com/reviews/albums/14547-catc...\n",
       "...                   ...                                                ...\n",
       "7339      taylor m. clark  http://pitchfork.com/reviews/albums/7339-axxes...\n",
       "8677       neil lieberman  http://pitchfork.com/reviews/albums/8677-summe...\n",
       "7051          shan fowler  http://pitchfork.com/reviews/albums/7051-the-s...\n",
       "2965          shan fowler  http://pitchfork.com/reviews/albums/2965-can-y...\n",
       "3741       neil lieberman  http://pitchfork.com/reviews/albums/3741-trad-...\n",
       "\n",
       "[752 rows x 2 columns]"
      ]
     },
     "execution_count": 9,
     "metadata": {},
     "output_type": "execute_result"
    }
   ],
   "source": [
    "reviews_18 = (pd\n",
    "    .read_sql(\"SELECT reviewid, author, url FROM reviews\", con18, index_col='reviewid')\n",
    "    .assign(\n",
    "        author = lambda adf: adf\n",
    "            .author.str.replace('  ','')\n",
    "            .str.strip()\n",
    "            .replace(corrections_to_authors_18)\n",
    "            .str.replace('with help from ','')\n",
    "            .str.replace(', and', ''),)\n",
    "    .query('author.isin(@deleted_authors)'))\n",
    "reviews_18"
   ]
  },
  {
   "cell_type": "code",
   "execution_count": 10,
   "metadata": {},
   "outputs": [
    {
     "data": {
      "application/vnd.microsoft.datawrangler.viewer.v0+json": {
       "columns": [
        {
         "name": "index",
         "rawType": "int64",
         "type": "integer"
        },
        {
         "name": "review_id",
         "rawType": "object",
         "type": "string"
        },
        {
         "name": "url",
         "rawType": "object",
         "type": "string"
        }
       ],
       "conversionMethod": "pd.DataFrame",
       "ref": "c550d9bc-363c-4e71-8f22-4c5eeab9c8a3",
       "rows": [
        [
         "119",
         "5929e2265e6ef959693250f6",
         "http://pitchfork.com/reviews/albums/6622-amplified/"
        ],
        [
         "140",
         "5929e239d7a71d1ea569a421",
         "http://pitchfork.com/reviews/albums/4917-the-days-of-our-nights/"
        ],
        [
         "143",
         "5929e238c0084474cd0c4d38",
         "http://pitchfork.com/reviews/albums/4703-le-tigre/"
        ],
        [
         "151",
         "5929e23d5e6ef9596932510b",
         "http://pitchfork.com/reviews/albums/1523-bbc-sessions/"
        ],
        [
         "178",
         "5929e250d7a71d1ea569a432",
         "http://pitchfork.com/reviews/albums/7303-songs-for-polarbears/"
        ],
        [
         "179",
         "5929e23dd7a71d1ea569a423",
         "http://pitchfork.com/reviews/albums/4305-the-lousy-dance/"
        ],
        [
         "183",
         "5929e25513d197565213d5b3",
         "http://pitchfork.com/reviews/albums/1357-trick-question/"
        ],
        [
         "188",
         "5929e253c0084474cd0c4d51",
         "http://pitchfork.com/reviews/albums/4676-ill-take-care-of-you/"
        ],
        [
         "192",
         "5929e251d7a71d1ea569a434",
         "http://pitchfork.com/reviews/albums/3748-burn-to-shine/"
        ],
        [
         "193",
         "5929e25b13d197565213d5b8",
         "http://pitchfork.com/reviews/albums/3183-end-time/"
        ],
        [
         "203",
         "5929e263c0084474cd0c4d64",
         "http://pitchfork.com/reviews/albums/725-intendo/"
        ],
        [
         "205",
         "5929e25c5e6ef95969325123",
         "http://pitchfork.com/reviews/albums/6725-life-in-a-bubble-can-be-beautiful/"
        ],
        [
         "210",
         "5929e254c0084474cd0c4d53",
         "http://pitchfork.com/reviews/albums/4910-song/"
        ],
        [
         "218",
         "5929e26f0c2bba1b7de02b79",
         "http://pitchfork.com/reviews/albums/8447-into-the-pink/"
        ],
        [
         "235",
         "5929e27b0c2bba1b7de02b87",
         "http://pitchfork.com/reviews/albums/1929-oh-merge-10-year-anniversary-compilation/"
        ],
        [
         "243",
         "5929e280d7a71d1ea569a46d",
         "http://pitchfork.com/reviews/albums/1412-surrender/"
        ],
        [
         "244",
         "5929e2740c2bba1b7de02b7e",
         "http://pitchfork.com/reviews/albums/246-daylight-saving/"
        ],
        [
         "272",
         "5929e2a0c0084474cd0c4dab",
         "http://pitchfork.com/reviews/albums/2831-bourbonitis-blues/"
        ],
        [
         "276",
         "5929e288c0084474cd0c4d90",
         "http://pitchfork.com/reviews/albums/3809-grande-rock/"
        ],
        [
         "285",
         "5929e285d7a71d1ea569a474",
         "http://pitchfork.com/reviews/albums/7873-run-lola-run/"
        ],
        [
         "291",
         "5929e2aa0c2bba1b7de02bb9",
         "http://pitchfork.com/reviews/albums/2265-peloton/"
        ],
        [
         "307",
         "5929e29c0c2bba1b7de02ba6",
         "http://pitchfork.com/reviews/albums/5965-fight-songs/"
        ],
        [
         "317",
         "5929e2ba13d197565213d612",
         "http://pitchfork.com/reviews/albums/7339-axxess-and-ace/"
        ],
        [
         "323",
         "5929e2c013d197565213d619",
         "http://pitchfork.com/reviews/albums/8677-summer-teeth/"
        ],
        [
         "332",
         "5929e2c7d7a71d1ea569a4b6",
         "http://pitchfork.com/reviews/albums/2965-can-you-still-feel/"
        ],
        [
         "334",
         "5929e2cd5e6ef95969325195",
         "http://pitchfork.com/reviews/albums/3741-trad-arr-jones/"
        ],
        [
         "343",
         "5929e4b90c2bba1b7de02d99",
         "http://pitchfork.com/reviews/albums/5961-down-the-river-of-golden-dreams/"
        ],
        [
         "357",
         "5929e4c1eb335119a49ef23e",
         "http://pitchfork.com/reviews/albums/3278-darts-of-pleasure-ep/"
        ],
        [
         "364",
         "5929e4c9c0084474cd0c4fb0",
         "http://pitchfork.com/reviews/albums/11759-bless-the-headless-we-like-it-wild/"
        ],
        [
         "368",
         "5929e4c713d197565213d7eb",
         "http://pitchfork.com/reviews/albums/6049-pass-in-time-the-definitive-collection/"
        ],
        [
         "374",
         "5929e4d00c2bba1b7de02dac",
         "http://pitchfork.com/reviews/albums/8558-want-one/"
        ],
        [
         "387",
         "5929e2c90c2bba1b7de02bd3",
         "http://pitchfork.com/reviews/albums/7051-the-sebadoh/"
        ],
        [
         "408",
         "5929e4e30c2bba1b7de02dbd",
         "http://pitchfork.com/reviews/albums/1360-keep-on-truckin/"
        ],
        [
         "419",
         "5929e4ec0c2bba1b7de02dc4",
         "http://pitchfork.com/reviews/albums/5330-songs-from-the-black-mountain-music-project/"
        ],
        [
         "423",
         "5929e4e8eb335119a49ef25e",
         "http://pitchfork.com/reviews/albums/8243-doctor-lawyer-indian-chief/"
        ],
        [
         "428",
         "5929e4f213d197565213d80a",
         "http://pitchfork.com/reviews/albums/6529-caught-the-blast/"
        ],
        [
         "431",
         "5929e4df13d197565213d7fe",
         "http://pitchfork.com/reviews/albums/409-muted/"
        ],
        [
         "438",
         "5929e4e20c2bba1b7de02dbc",
         "http://pitchfork.com/reviews/albums/7181-burn-radio-airtest-ep/"
        ],
        [
         "445",
         "5929e4f8d7a71d1ea569a6b1",
         "http://pitchfork.com/reviews/albums/6742-under-the-tray/"
        ],
        [
         "446",
         "5929e4fc13d197565213d816",
         "http://pitchfork.com/reviews/albums/6900-summer-fling/"
        ],
        [
         "454",
         "5929e502d7a71d1ea569a6ba",
         "http://pitchfork.com/reviews/albums/6751-in-time-the-best-of-rem-1988-2003/"
        ],
        [
         "460",
         "5929e501c0084474cd0c4fd8",
         "http://pitchfork.com/reviews/albums/1090-deja-entendu/"
        ],
        [
         "473",
         "5929e4f85e6ef9596932536b",
         "http://pitchfork.com/reviews/albums/401-hold-on-love/"
        ],
        [
         "478",
         "5929e5090c2bba1b7de02dd4",
         "http://pitchfork.com/reviews/albums/8518-vells-ep/"
        ],
        [
         "491",
         "5929e5100c2bba1b7de02dda",
         "http://pitchfork.com/reviews/albums/8146-12-memories/"
        ],
        [
         "502",
         "5929e51a5e6ef95969325381",
         "http://pitchfork.com/reviews/albums/7463-old/"
        ],
        [
         "503",
         "5929e51c0c2bba1b7de02de6",
         "http://pitchfork.com/reviews/albums/4453-aztec-discipline/"
        ],
        [
         "522",
         "5929e528c0084474cd0c4ff5",
         "http://pitchfork.com/reviews/albums/6842-1972/"
        ],
        [
         "543",
         "5929e5385e6ef95969325390",
         "http://pitchfork.com/reviews/albums/8896-year-of-the-rabbit/"
        ],
        [
         "551",
         "5929e53deb335119a49ef2a4",
         "http://pitchfork.com/reviews/albums/408-eyes-closed-ep/"
        ]
       ],
       "shape": {
        "columns": 2,
        "rows": 752
       }
      },
      "text/html": [
       "<div>\n",
       "<style scoped>\n",
       "    .dataframe tbody tr th:only-of-type {\n",
       "        vertical-align: middle;\n",
       "    }\n",
       "\n",
       "    .dataframe tbody tr th {\n",
       "        vertical-align: top;\n",
       "    }\n",
       "\n",
       "    .dataframe thead th {\n",
       "        text-align: right;\n",
       "    }\n",
       "</style>\n",
       "<table border=\"1\" class=\"dataframe\">\n",
       "  <thead>\n",
       "    <tr style=\"text-align: right;\">\n",
       "      <th></th>\n",
       "      <th>review_id</th>\n",
       "      <th>url</th>\n",
       "    </tr>\n",
       "  </thead>\n",
       "  <tbody>\n",
       "    <tr>\n",
       "      <th>119</th>\n",
       "      <td>5929e2265e6ef959693250f6</td>\n",
       "      <td>http://pitchfork.com/reviews/albums/6622-ampli...</td>\n",
       "    </tr>\n",
       "    <tr>\n",
       "      <th>140</th>\n",
       "      <td>5929e239d7a71d1ea569a421</td>\n",
       "      <td>http://pitchfork.com/reviews/albums/4917-the-d...</td>\n",
       "    </tr>\n",
       "    <tr>\n",
       "      <th>143</th>\n",
       "      <td>5929e238c0084474cd0c4d38</td>\n",
       "      <td>http://pitchfork.com/reviews/albums/4703-le-ti...</td>\n",
       "    </tr>\n",
       "    <tr>\n",
       "      <th>151</th>\n",
       "      <td>5929e23d5e6ef9596932510b</td>\n",
       "      <td>http://pitchfork.com/reviews/albums/1523-bbc-s...</td>\n",
       "    </tr>\n",
       "    <tr>\n",
       "      <th>178</th>\n",
       "      <td>5929e250d7a71d1ea569a432</td>\n",
       "      <td>http://pitchfork.com/reviews/albums/7303-songs...</td>\n",
       "    </tr>\n",
       "    <tr>\n",
       "      <th>...</th>\n",
       "      <td>...</td>\n",
       "      <td>...</td>\n",
       "    </tr>\n",
       "    <tr>\n",
       "      <th>24289</th>\n",
       "      <td>5929e40f5e6ef959693252cf</td>\n",
       "      <td>http://pitchfork.com/reviews/albums/12568-we-a...</td>\n",
       "    </tr>\n",
       "    <tr>\n",
       "      <th>24292</th>\n",
       "      <td>5929e41113d197565213d769</td>\n",
       "      <td>http://pitchfork.com/reviews/albums/12565-fun-...</td>\n",
       "    </tr>\n",
       "    <tr>\n",
       "      <th>24309</th>\n",
       "      <td>5929e415eb335119a49ef1b2</td>\n",
       "      <td>http://pitchfork.com/reviews/albums/12552-jewels/</td>\n",
       "    </tr>\n",
       "    <tr>\n",
       "      <th>24769</th>\n",
       "      <td>5929e094d7a71d1ea569a266</td>\n",
       "      <td>http://pitchfork.com/reviews/albums/13995-lights/</td>\n",
       "    </tr>\n",
       "    <tr>\n",
       "      <th>26364</th>\n",
       "      <td>5929e0ef5e6ef95969324fb6</td>\n",
       "      <td>http://pitchfork.com/reviews/albums/13873-acol...</td>\n",
       "    </tr>\n",
       "  </tbody>\n",
       "</table>\n",
       "<p>752 rows × 2 columns</p>\n",
       "</div>"
      ],
      "text/plain": [
       "                      review_id  \\\n",
       "119    5929e2265e6ef959693250f6   \n",
       "140    5929e239d7a71d1ea569a421   \n",
       "143    5929e238c0084474cd0c4d38   \n",
       "151    5929e23d5e6ef9596932510b   \n",
       "178    5929e250d7a71d1ea569a432   \n",
       "...                         ...   \n",
       "24289  5929e40f5e6ef959693252cf   \n",
       "24292  5929e41113d197565213d769   \n",
       "24309  5929e415eb335119a49ef1b2   \n",
       "24769  5929e094d7a71d1ea569a266   \n",
       "26364  5929e0ef5e6ef95969324fb6   \n",
       "\n",
       "                                                     url  \n",
       "119    http://pitchfork.com/reviews/albums/6622-ampli...  \n",
       "140    http://pitchfork.com/reviews/albums/4917-the-d...  \n",
       "143    http://pitchfork.com/reviews/albums/4703-le-ti...  \n",
       "151    http://pitchfork.com/reviews/albums/1523-bbc-s...  \n",
       "178    http://pitchfork.com/reviews/albums/7303-songs...  \n",
       "...                                                  ...  \n",
       "24289  http://pitchfork.com/reviews/albums/12568-we-a...  \n",
       "24292  http://pitchfork.com/reviews/albums/12565-fun-...  \n",
       "24309  http://pitchfork.com/reviews/albums/12552-jewels/  \n",
       "24769  http://pitchfork.com/reviews/albums/13995-lights/  \n",
       "26364  http://pitchfork.com/reviews/albums/13873-acol...  \n",
       "\n",
       "[752 rows x 2 columns]"
      ]
     },
     "execution_count": 10,
     "metadata": {},
     "output_type": "execute_result"
    }
   ],
   "source": [
    "query = \"\"\"\n",
    "SELECT r.review_id, u.url \n",
    "FROM reviews r \n",
    "JOIN urls u ON r.url_id = u.url_id\n",
    "\"\"\"\n",
    "reviews_25 = (pd\n",
    "    .read_sql(query, con25)\n",
    "    .assign(url = lambda adf: adf.url.str.replace('https', 'http'))\n",
    "    .query('url.isin(@reviews_18.url)'))\n",
    "reviews_25"
   ]
  },
  {
   "cell_type": "code",
   "execution_count": 11,
   "metadata": {},
   "outputs": [
    {
     "data": {
      "application/vnd.microsoft.datawrangler.viewer.v0+json": {
       "columns": [
        {
         "name": "review_id",
         "rawType": "object",
         "type": "string"
        },
        {
         "name": "url",
         "rawType": "object",
         "type": "string"
        },
        {
         "name": "author_lower",
         "rawType": "object",
         "type": "string"
        }
       ],
       "conversionMethod": "pd.DataFrame",
       "ref": "e9c492c5-d375-4be9-bc4d-fa9f102c2530",
       "rows": [
        [
         "5929e2265e6ef959693250f6",
         "http://pitchfork.com/reviews/albums/6622-amplified/",
         "taylor m. clark"
        ],
        [
         "5929e239d7a71d1ea569a421",
         "http://pitchfork.com/reviews/albums/4917-the-days-of-our-nights/",
         "neil lieberman"
        ],
        [
         "5929e238c0084474cd0c4d38",
         "http://pitchfork.com/reviews/albums/4703-le-tigre/",
         "kristin sage rockermann"
        ],
        [
         "5929e23d5e6ef9596932510b",
         "http://pitchfork.com/reviews/albums/1523-bbc-sessions/",
         "kristin sage rockermann"
        ],
        [
         "5929e250d7a71d1ea569a432",
         "http://pitchfork.com/reviews/albums/7303-songs-for-polarbears/",
         "taylor m. clark"
        ],
        [
         "5929e23dd7a71d1ea569a423",
         "http://pitchfork.com/reviews/albums/4305-the-lousy-dance/",
         "steven byrd"
        ],
        [
         "5929e25513d197565213d5b3",
         "http://pitchfork.com/reviews/albums/1357-trick-question/",
         "steven byrd"
        ],
        [
         "5929e253c0084474cd0c4d51",
         "http://pitchfork.com/reviews/albums/4676-ill-take-care-of-you/",
         "neil lieberman"
        ],
        [
         "5929e251d7a71d1ea569a434",
         "http://pitchfork.com/reviews/albums/3748-burn-to-shine/",
         "neil lieberman"
        ],
        [
         "5929e25b13d197565213d5b8",
         "http://pitchfork.com/reviews/albums/3183-end-time/",
         "neil lieberman"
        ],
        [
         "5929e263c0084474cd0c4d64",
         "http://pitchfork.com/reviews/albums/725-intendo/",
         "zach hammerman"
        ],
        [
         "5929e25c5e6ef95969325123",
         "http://pitchfork.com/reviews/albums/6725-life-in-a-bubble-can-be-beautiful/",
         "steven byrd"
        ],
        [
         "5929e254c0084474cd0c4d53",
         "http://pitchfork.com/reviews/albums/4910-song/",
         "neil lieberman"
        ],
        [
         "5929e26f0c2bba1b7de02b79",
         "http://pitchfork.com/reviews/albums/8447-into-the-pink/",
         "neil lieberman"
        ],
        [
         "5929e27b0c2bba1b7de02b87",
         "http://pitchfork.com/reviews/albums/1929-oh-merge-10-year-anniversary-compilation/",
         "steven byrd"
        ],
        [
         "5929e280d7a71d1ea569a46d",
         "http://pitchfork.com/reviews/albums/1412-surrender/",
         "sarah zupko"
        ],
        [
         "5929e2740c2bba1b7de02b7e",
         "http://pitchfork.com/reviews/albums/246-daylight-saving/",
         "neil lieberman"
        ],
        [
         "5929e2a0c0084474cd0c4dab",
         "http://pitchfork.com/reviews/albums/2831-bourbonitis-blues/",
         "neil lieberman"
        ],
        [
         "5929e288c0084474cd0c4d90",
         "http://pitchfork.com/reviews/albums/3809-grande-rock/",
         "steven byrd"
        ],
        [
         "5929e285d7a71d1ea569a474",
         "http://pitchfork.com/reviews/albums/7873-run-lola-run/",
         "sarah zupko"
        ],
        [
         "5929e2aa0c2bba1b7de02bb9",
         "http://pitchfork.com/reviews/albums/2265-peloton/",
         "sarah zupko"
        ],
        [
         "5929e29c0c2bba1b7de02ba6",
         "http://pitchfork.com/reviews/albums/5965-fight-songs/",
         "neil lieberman"
        ],
        [
         "5929e2ba13d197565213d612",
         "http://pitchfork.com/reviews/albums/7339-axxess-and-ace/",
         "taylor m. clark"
        ],
        [
         "5929e2c013d197565213d619",
         "http://pitchfork.com/reviews/albums/8677-summer-teeth/",
         "neil lieberman"
        ],
        [
         "5929e2c7d7a71d1ea569a4b6",
         "http://pitchfork.com/reviews/albums/2965-can-you-still-feel/",
         "shan fowler"
        ],
        [
         "5929e2cd5e6ef95969325195",
         "http://pitchfork.com/reviews/albums/3741-trad-arr-jones/",
         "neil lieberman"
        ],
        [
         "5929e4b90c2bba1b7de02d99",
         "http://pitchfork.com/reviews/albums/5961-down-the-river-of-golden-dreams/",
         "william morris"
        ],
        [
         "5929e4c1eb335119a49ef23e",
         "http://pitchfork.com/reviews/albums/3278-darts-of-pleasure-ep/",
         "william morris"
        ],
        [
         "5929e4c9c0084474cd0c4fb0",
         "http://pitchfork.com/reviews/albums/11759-bless-the-headless-we-like-it-wild/",
         "william morris"
        ],
        [
         "5929e4c713d197565213d7eb",
         "http://pitchfork.com/reviews/albums/6049-pass-in-time-the-definitive-collection/",
         "michael idov"
        ],
        [
         "5929e4d00c2bba1b7de02dac",
         "http://pitchfork.com/reviews/albums/8558-want-one/",
         "william morris"
        ],
        [
         "5929e2c90c2bba1b7de02bd3",
         "http://pitchfork.com/reviews/albums/7051-the-sebadoh/",
         "shan fowler"
        ],
        [
         "5929e4e30c2bba1b7de02dbd",
         "http://pitchfork.com/reviews/albums/1360-keep-on-truckin/",
         "william morris"
        ],
        [
         "5929e4ec0c2bba1b7de02dc4",
         "http://pitchfork.com/reviews/albums/5330-songs-from-the-black-mountain-music-project/",
         "michael idov"
        ],
        [
         "5929e4e8eb335119a49ef25e",
         "http://pitchfork.com/reviews/albums/8243-doctor-lawyer-indian-chief/",
         "michael idov"
        ],
        [
         "5929e4f213d197565213d80a",
         "http://pitchfork.com/reviews/albums/6529-caught-the-blast/",
         "michael idov"
        ],
        [
         "5929e4df13d197565213d7fe",
         "http://pitchfork.com/reviews/albums/409-muted/",
         "william morris"
        ],
        [
         "5929e4e20c2bba1b7de02dbc",
         "http://pitchfork.com/reviews/albums/7181-burn-radio-airtest-ep/",
         "william morris"
        ],
        [
         "5929e4f8d7a71d1ea569a6b1",
         "http://pitchfork.com/reviews/albums/6742-under-the-tray/",
         "noah sutcliffe"
        ],
        [
         "5929e4fc13d197565213d816",
         "http://pitchfork.com/reviews/albums/6900-summer-fling/",
         "william morris"
        ],
        [
         "5929e502d7a71d1ea569a6ba",
         "http://pitchfork.com/reviews/albums/6751-in-time-the-best-of-rem-1988-2003/",
         "michael idov"
        ],
        [
         "5929e501c0084474cd0c4fd8",
         "http://pitchfork.com/reviews/albums/1090-deja-entendu/",
         "noah sutcliffe"
        ],
        [
         "5929e4f85e6ef9596932536b",
         "http://pitchfork.com/reviews/albums/401-hold-on-love/",
         "william morris"
        ],
        [
         "5929e5090c2bba1b7de02dd4",
         "http://pitchfork.com/reviews/albums/8518-vells-ep/",
         "william morris"
        ],
        [
         "5929e5100c2bba1b7de02dda",
         "http://pitchfork.com/reviews/albums/8146-12-memories/",
         "william morris"
        ],
        [
         "5929e51a5e6ef95969325381",
         "http://pitchfork.com/reviews/albums/7463-old/",
         "william morris"
        ],
        [
         "5929e51c0c2bba1b7de02de6",
         "http://pitchfork.com/reviews/albums/4453-aztec-discipline/",
         "william morris"
        ],
        [
         "5929e528c0084474cd0c4ff5",
         "http://pitchfork.com/reviews/albums/6842-1972/",
         "william morris"
        ],
        [
         "5929e5385e6ef95969325390",
         "http://pitchfork.com/reviews/albums/8896-year-of-the-rabbit/",
         "william morris"
        ],
        [
         "5929e53deb335119a49ef2a4",
         "http://pitchfork.com/reviews/albums/408-eyes-closed-ep/",
         "william morris"
        ]
       ],
       "shape": {
        "columns": 2,
        "rows": 752
       }
      },
      "text/html": [
       "<div>\n",
       "<style scoped>\n",
       "    .dataframe tbody tr th:only-of-type {\n",
       "        vertical-align: middle;\n",
       "    }\n",
       "\n",
       "    .dataframe tbody tr th {\n",
       "        vertical-align: top;\n",
       "    }\n",
       "\n",
       "    .dataframe thead th {\n",
       "        text-align: right;\n",
       "    }\n",
       "</style>\n",
       "<table border=\"1\" class=\"dataframe\">\n",
       "  <thead>\n",
       "    <tr style=\"text-align: right;\">\n",
       "      <th></th>\n",
       "      <th>url</th>\n",
       "      <th>author_lower</th>\n",
       "    </tr>\n",
       "    <tr>\n",
       "      <th>review_id</th>\n",
       "      <th></th>\n",
       "      <th></th>\n",
       "    </tr>\n",
       "  </thead>\n",
       "  <tbody>\n",
       "    <tr>\n",
       "      <th>5929e2265e6ef959693250f6</th>\n",
       "      <td>http://pitchfork.com/reviews/albums/6622-ampli...</td>\n",
       "      <td>taylor m. clark</td>\n",
       "    </tr>\n",
       "    <tr>\n",
       "      <th>5929e239d7a71d1ea569a421</th>\n",
       "      <td>http://pitchfork.com/reviews/albums/4917-the-d...</td>\n",
       "      <td>neil lieberman</td>\n",
       "    </tr>\n",
       "    <tr>\n",
       "      <th>5929e238c0084474cd0c4d38</th>\n",
       "      <td>http://pitchfork.com/reviews/albums/4703-le-ti...</td>\n",
       "      <td>kristin sage rockermann</td>\n",
       "    </tr>\n",
       "    <tr>\n",
       "      <th>5929e23d5e6ef9596932510b</th>\n",
       "      <td>http://pitchfork.com/reviews/albums/1523-bbc-s...</td>\n",
       "      <td>kristin sage rockermann</td>\n",
       "    </tr>\n",
       "    <tr>\n",
       "      <th>5929e250d7a71d1ea569a432</th>\n",
       "      <td>http://pitchfork.com/reviews/albums/7303-songs...</td>\n",
       "      <td>taylor m. clark</td>\n",
       "    </tr>\n",
       "    <tr>\n",
       "      <th>...</th>\n",
       "      <td>...</td>\n",
       "      <td>...</td>\n",
       "    </tr>\n",
       "    <tr>\n",
       "      <th>5929e40f5e6ef959693252cf</th>\n",
       "      <td>http://pitchfork.com/reviews/albums/12568-we-a...</td>\n",
       "      <td>mike orme</td>\n",
       "    </tr>\n",
       "    <tr>\n",
       "      <th>5929e41113d197565213d769</th>\n",
       "      <td>http://pitchfork.com/reviews/albums/12565-fun-...</td>\n",
       "      <td>roque strew</td>\n",
       "    </tr>\n",
       "    <tr>\n",
       "      <th>5929e415eb335119a49ef1b2</th>\n",
       "      <td>http://pitchfork.com/reviews/albums/12552-jewels/</td>\n",
       "      <td>roque strew</td>\n",
       "    </tr>\n",
       "    <tr>\n",
       "      <th>5929e094d7a71d1ea569a266</th>\n",
       "      <td>http://pitchfork.com/reviews/albums/13995-lights/</td>\n",
       "      <td>stephen trouss</td>\n",
       "    </tr>\n",
       "    <tr>\n",
       "      <th>5929e0ef5e6ef95969324fb6</th>\n",
       "      <td>http://pitchfork.com/reviews/albums/13873-acol...</td>\n",
       "      <td>stephen trouss</td>\n",
       "    </tr>\n",
       "  </tbody>\n",
       "</table>\n",
       "<p>752 rows × 2 columns</p>\n",
       "</div>"
      ],
      "text/plain": [
       "                                                                        url  \\\n",
       "review_id                                                                     \n",
       "5929e2265e6ef959693250f6  http://pitchfork.com/reviews/albums/6622-ampli...   \n",
       "5929e239d7a71d1ea569a421  http://pitchfork.com/reviews/albums/4917-the-d...   \n",
       "5929e238c0084474cd0c4d38  http://pitchfork.com/reviews/albums/4703-le-ti...   \n",
       "5929e23d5e6ef9596932510b  http://pitchfork.com/reviews/albums/1523-bbc-s...   \n",
       "5929e250d7a71d1ea569a432  http://pitchfork.com/reviews/albums/7303-songs...   \n",
       "...                                                                     ...   \n",
       "5929e40f5e6ef959693252cf  http://pitchfork.com/reviews/albums/12568-we-a...   \n",
       "5929e41113d197565213d769  http://pitchfork.com/reviews/albums/12565-fun-...   \n",
       "5929e415eb335119a49ef1b2  http://pitchfork.com/reviews/albums/12552-jewels/   \n",
       "5929e094d7a71d1ea569a266  http://pitchfork.com/reviews/albums/13995-lights/   \n",
       "5929e0ef5e6ef95969324fb6  http://pitchfork.com/reviews/albums/13873-acol...   \n",
       "\n",
       "                                     author_lower  \n",
       "review_id                                          \n",
       "5929e2265e6ef959693250f6          taylor m. clark  \n",
       "5929e239d7a71d1ea569a421           neil lieberman  \n",
       "5929e238c0084474cd0c4d38  kristin sage rockermann  \n",
       "5929e23d5e6ef9596932510b  kristin sage rockermann  \n",
       "5929e250d7a71d1ea569a432          taylor m. clark  \n",
       "...                                           ...  \n",
       "5929e40f5e6ef959693252cf                mike orme  \n",
       "5929e41113d197565213d769              roque strew  \n",
       "5929e415eb335119a49ef1b2              roque strew  \n",
       "5929e094d7a71d1ea569a266           stephen trouss  \n",
       "5929e0ef5e6ef95969324fb6           stephen trouss  \n",
       "\n",
       "[752 rows x 2 columns]"
      ]
     },
     "execution_count": 11,
     "metadata": {},
     "output_type": "execute_result"
    }
   ],
   "source": [
    "original_authors = (reviews_25\n",
    "    .merge(reviews_18, on='url')\n",
    "    .rename(columns={'author':'author_lower'})\n",
    "    .set_index('review_id'))\n",
    "original_authors"
   ]
  },
  {
   "cell_type": "markdown",
   "metadata": {},
   "source": [
    "#### Give old authors a new ID"
   ]
  },
  {
   "cell_type": "code",
   "execution_count": 12,
   "metadata": {},
   "outputs": [
    {
     "data": {
      "text/plain": [
       "author_id\n",
       "restored256c86731f9118c3ad3a48ec               Alan Smithee\n",
       "restorede74eaa2a6e8eb9de51813d70                Kim Shannon\n",
       "restored59a454e2ce2e2b00e54b56ad    Kristin Sage Rockermann\n",
       "restored769412f766e609eba47263b0                Kyle Reiter\n",
       "restored052c5d4b676c00bff0f6f375              Kevin Adickes\n",
       "Name: author, dtype: object"
      ]
     },
     "metadata": {},
     "output_type": "display_data"
    },
    {
     "data": {
      "text/plain": [
       "author\n",
       "alan smithee               restored256c86731f9118c3ad3a48ec\n",
       "kim shannon                restorede74eaa2a6e8eb9de51813d70\n",
       "kristin sage rockermann    restored59a454e2ce2e2b00e54b56ad\n",
       "kyle reiter                restored769412f766e609eba47263b0\n",
       "kevin adickes              restored052c5d4b676c00bff0f6f375\n",
       "Name: author_id, dtype: object"
      ]
     },
     "metadata": {},
     "output_type": "display_data"
    }
   ],
   "source": [
    "import hashlib\n",
    "\n",
    "def get_id_hash(name):\n",
    "    # Function to generate a 32-character ID with prefix \"restored\"\n",
    "    hash_part = hashlib.md5(name.encode()).hexdigest()[:24]\n",
    "    return f\"restored{hash_part}\"\n",
    "\n",
    "authors_old = pd.DataFrame({a: get_id_hash(a) for a in deleted_authors}.items(), columns=[\"author\", \"author_id\"])\n",
    "new_ids = authors_old.set_index('author')['author_id']\n",
    "authors_old = (authors_old\n",
    "    .set_index('author_id')\n",
    "    ['author']\n",
    "    .str.title())\n",
    "display(authors_old.head())\n",
    "display(new_ids.head())"
   ]
  },
  {
   "cell_type": "markdown",
   "metadata": {},
   "source": [
    "#### Put everything together\n"
   ]
  },
  {
   "cell_type": "code",
   "execution_count": 13,
   "metadata": {},
   "outputs": [
    {
     "data": {
      "text/plain": [
       "review_id\n",
       "5929e2265e6ef959693250f6    restoredee3c3de4711302bbec49d5dd\n",
       "5929e239d7a71d1ea569a421    restored38952617d98ef42ec86bcfee\n",
       "5929e238c0084474cd0c4d38    restored59a454e2ce2e2b00e54b56ad\n",
       "5929e23d5e6ef9596932510b    restored59a454e2ce2e2b00e54b56ad\n",
       "5929e250d7a71d1ea569a432    restoredee3c3de4711302bbec49d5dd\n",
       "                                          ...               \n",
       "5929e40f5e6ef959693252cf    restoreda2412175615473c40a4b8753\n",
       "5929e41113d197565213d769    restoredd54c8234de80e8041996ac74\n",
       "5929e415eb335119a49ef1b2    restoredd54c8234de80e8041996ac74\n",
       "5929e094d7a71d1ea569a266    restoredb8a3b4c1ed2658b1b8d12846\n",
       "5929e0ef5e6ef95969324fb6    restoredb8a3b4c1ed2658b1b8d12846\n",
       "Name: author_id, Length: 752, dtype: object"
      ]
     },
     "execution_count": 13,
     "metadata": {},
     "output_type": "execute_result"
    }
   ],
   "source": [
    "review_author_update = (original_authors\n",
    "    .assign(author_id = lambda adf: adf\n",
    "        .author_lower\n",
    "        .map(new_ids.to_dict()))\n",
    "    ['author_id'])\n",
    "review_author_update"
   ]
  },
  {
   "cell_type": "markdown",
   "metadata": {},
   "source": [
    "\n",
    "**authors** table modifications:\n",
    "* For each *author_id* in *authors_old*:\n",
    "  - Add the tuple (author_id, author, None).\n",
    "  - The \"None\" place corresponds to the authors URL bio page (they have all been deleted from Pitchfork)\n",
    "\n",
    "**review_authors** table modifications:\n",
    "* For each *review_id* in *review_author_update*:  \n",
    "  - Delete existing records associated with the given review_id\n",
    "  - Add new records, association the newly (for old authors) created tuples (review_id, author_id)\n"
   ]
  },
  {
   "cell_type": "code",
   "execution_count": null,
   "metadata": {},
   "outputs": [],
   "source": [
    "import sys\n",
    "sys.path.append(str(Path.cwd().parent))\n",
    "\n",
    "from scraper import types as t, db"
   ]
  },
  {
   "cell_type": "code",
   "execution_count": null,
   "metadata": {},
   "outputs": [],
   "source": [
    "def get_connection_25(filepath=data):\n",
    "    return sqlite3.connect(filepath / 'Pitchfork_Album_Reviews_2025_03_02.db')"
   ]
  },
  {
   "cell_type": "code",
   "execution_count": null,
   "metadata": {},
   "outputs": [],
   "source": [
    "new_authors = [t.Author(author_id, author, None) for author_id, author in authors_old.items()]\n",
    "db.insert_named_tuples(get_connection_25, new_authors, log=False)"
   ]
  },
  {
   "cell_type": "code",
   "execution_count": null,
   "metadata": {},
   "outputs": [],
   "source": [
    "def batch_delete_review_authors(review_ids, con, batch_size=900):\n",
    "\n",
    "    cur = con.cursor()\n",
    "    for i in range(0, len(review_ids), batch_size):\n",
    "        batch = review_ids[i : i + batch_size]\n",
    "        sql_list = \",\".join(\"?\" * len(batch))\n",
    "        query = f\"DELETE FROM review_authors WHERE review_id IN ({sql_list})\"\n",
    "        cur.execute(query, batch)\n",
    "\n",
    "    con.commit()\n",
    "\n",
    "\n",
    "ids_to_clean = review_author_update.index.to_list()\n",
    "batch_delete_review_authors(ids_to_clean, con25)\n"
   ]
  },
  {
   "cell_type": "code",
   "execution_count": null,
   "metadata": {},
   "outputs": [],
   "source": [
    "\n",
    "review_authors = [t.Review_Authors(rid, aid) for rid, aid in review_author_update.items()]\n",
    "db.insert_named_tuples(get_connection_25, review_authors, log=False)"
   ]
  }
 ],
 "metadata": {
  "kernelspec": {
   "display_name": "Python 3",
   "language": "python",
   "name": "python3"
  },
  "language_info": {
   "codemirror_mode": {
    "name": "ipython",
    "version": 3
   },
   "file_extension": ".py",
   "mimetype": "text/x-python",
   "name": "python",
   "nbconvert_exporter": "python",
   "pygments_lexer": "ipython3",
   "version": "3.12.0"
  }
 },
 "nbformat": 4,
 "nbformat_minor": 2
}
